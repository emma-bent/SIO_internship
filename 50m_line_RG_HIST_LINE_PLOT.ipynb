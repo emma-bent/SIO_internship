{
 "cells": [
  {
   "cell_type": "markdown",
   "metadata": {},
   "source": [
    "# Explanation of notebook\n",
    "\n",
    "This notebook does the following :\n",
    "\n",
    "LINE PLOT :\n",
    "* selects the index p of the particles for each zone (gyre, north, west, east, east_west, masked at all time) thanks to count_in_zones(). They are saved in dictionary Index_Ensembles[NPP]\n",
    "* goes through the indexes of 'north' and test a threshold of minimum 3 time steps over the front and saves in Ind_parti_north[NPP] the parti that pass the threshold test and in Ind_parti_stay_gyre[NPP] the parti that don't pass the threshold test and are therefore considered part of the 'gyre' category\n",
    "* loops to save the t indexes of particles that go north thanks to Ind_parti_north[NPP] (use of southern_front), called T_step_parti_north[NPP]\n",
    "* adds the index of parti in RS to index of parti that are considered in RS after test of threshold : Index_Ensembles[NPP]['gyre'] + Ind_parti_stay_gyre[NPP]\n",
    "* creates new list for indexes of parti that go north equal to the list obtained with threshold Index_Ensembles[NPP]['north'] = Ind_parti_north[NPP]\n",
    "* now that we have all the indexes for each zone, we calculate the evolution over time thanks to count_zones2()\n",
    "* we store the results in a dictionary Ensembles[NPP]\n",
    "* we sum up all the NPPs in Sum_Zones[NPP]\n",
    "* we plot the line plot thanks to Sum_Zones[NPP]\n",
    "\n",
    "HISTOGRAMS : \n",
    "* thanks to Ind_parti_north[NPP] and T_step_parti_north[NPP] we calculate the depths, lons and times (year and month) of the crossing of the front\n",
    "* we plot 3 histograms"
   ]
  },
  {
   "cell_type": "code",
   "execution_count": 1,
   "metadata": {
    "collapsed": true
   },
   "outputs": [],
   "source": [
    "from func_pickle import pickle_save, pickle_load"
   ]
  },
  {
   "cell_type": "code",
   "execution_count": 2,
   "metadata": {
    "collapsed": true
   },
   "outputs": [],
   "source": [
    "%matplotlib inline\n",
    "\n",
    "# Import packages\n",
    "import matplotlib.pyplot as plt\n",
    "import numpy as np\n",
    "from numpy import cos, pi\n",
    "import h5py\n",
    "from scipy.io import loadmat\n",
    "from mpl_toolkits.basemap import Basemap\n",
    "import netCDF4\n",
    "from scipy import interpolate\n",
    "import os\n",
    "import pickle\n",
    "import cmocean\n",
    "\n",
    "plot_path_1993_2017='/home/ebent/plots/1993_2017/'\n",
    "plot_path_2006_2011='/home/ebent/plots/2006_2011/'\n",
    "plot_path_jup='/home/ebent/plots/2006_2011/jup2/'\n",
    "load_path='/data/mmazloff/AVISO/'\n",
    "load_path2='/data/SO12/runs/RUN_BLING_Dec2017/SO12_RUN/DIAGNOSTICS/'\n",
    "load_path3='/data/soccom/GRID_12/'"
   ]
  },
  {
   "cell_type": "code",
   "execution_count": 3,
   "metadata": {
    "collapsed": false
   },
   "outputs": [],
   "source": [
    "southern_front = pickle_load('ACC_southern_front', '/data/ebent/', verbose=False)\n",
    "southern_front = np.ma.masked_array(southern_front, mask=False)"
   ]
  },
  {
   "cell_type": "code",
   "execution_count": 4,
   "metadata": {
    "collapsed": true
   },
   "outputs": [],
   "source": [
    "W_boundary = 12 # 121,04 degrees\n",
    "E_boundary = 1560 # 250,04 degrees"
   ]
  },
  {
   "cell_type": "code",
   "execution_count": 5,
   "metadata": {
    "collapsed": true
   },
   "outputs": [],
   "source": [
    "# Create a meshgrid to plot in index coordinates\n",
    "xc = np.arange(1801)\n",
    "yc = np.arange(1024)\n",
    "xc, yc = np.meshgrid(xc,yc)"
   ]
  },
  {
   "cell_type": "code",
   "execution_count": 6,
   "metadata": {
    "collapsed": true
   },
   "outputs": [],
   "source": [
    "npts = 10000"
   ]
  },
  {
   "cell_type": "code",
   "execution_count": 7,
   "metadata": {
    "collapsed": true
   },
   "outputs": [],
   "source": [
    "max_time_experiment = 148\n",
    "npp = ['01', '02', '03', '04', '05', '06', '07', '08', '09', '10', '11', '12']\n",
    "Z = ['Z1','Z2','Z3','Z4','Z5','dead']"
   ]
  },
  {
   "cell_type": "markdown",
   "metadata": {},
   "source": [
    "***"
   ]
  },
  {
   "cell_type": "code",
   "execution_count": 8,
   "metadata": {
    "collapsed": true
   },
   "outputs": [],
   "source": [
    "path_load = '/data/ebent/Octopus/output/50m_line_RG/'"
   ]
  },
  {
   "cell_type": "code",
   "execution_count": 9,
   "metadata": {
    "collapsed": false
   },
   "outputs": [],
   "source": [
    "path_save = '/data/ebent/Octopus/output/50m_line_RG/50m_analysis/'"
   ]
  },
  {
   "cell_type": "markdown",
   "metadata": {},
   "source": [
    "***"
   ]
  },
  {
   "cell_type": "markdown",
   "metadata": {},
   "source": [
    "## Load variables calculated in this notebook"
   ]
  },
  {
   "cell_type": "code",
   "execution_count": 10,
   "metadata": {
    "collapsed": false,
    "scrolled": false
   },
   "outputs": [
    {
     "name": "stdout",
     "output_type": "stream",
     "text": [
      "('loaded from : ', '/data/ebent/Octopus/output/50m_line_RG/50m_analysis/Index_Ensembles.npy')\n"
     ]
    }
   ],
   "source": [
    "Index_Ensembles = pickle_load('Index_Ensembles', path_save)"
   ]
  },
  {
   "cell_type": "code",
   "execution_count": 11,
   "metadata": {
    "collapsed": false,
    "scrolled": false
   },
   "outputs": [
    {
     "name": "stdout",
     "output_type": "stream",
     "text": [
      "('loaded from : ', '/data/ebent/Octopus/output/50m_line_RG/50m_analysis/Ind_parti_north.npy')\n",
      "('loaded from : ', '/data/ebent/Octopus/output/50m_line_RG/50m_analysis/T_step_parti_north.npy')\n",
      "('loaded from : ', '/data/ebent/Octopus/output/50m_line_RG/50m_analysis/Ind_parti_stay_gyre.npy')\n"
     ]
    }
   ],
   "source": [
    "Ind_parti_north = pickle_load('Ind_parti_north', path_save)\n",
    "T_step_parti_north = pickle_load('T_step_parti_north', path_save)\n",
    "\n",
    "Ind_parti_stay_gyre = pickle_load('Ind_parti_stay_gyre', path_save)"
   ]
  },
  {
   "cell_type": "code",
   "execution_count": 12,
   "metadata": {
    "collapsed": false,
    "scrolled": false
   },
   "outputs": [
    {
     "name": "stdout",
     "output_type": "stream",
     "text": [
      "('loaded from : ', '/data/ebent/Octopus/output/50m_line_RG/50m_analysis/Ensembles.npy')\n"
     ]
    }
   ],
   "source": [
    "Ensembles = pickle_load('Ensembles', path_save)"
   ]
  },
  {
   "cell_type": "code",
   "execution_count": 13,
   "metadata": {
    "collapsed": false,
    "scrolled": true
   },
   "outputs": [
    {
     "name": "stdout",
     "output_type": "stream",
     "text": [
      "('loaded from : ', '/data/ebent/Octopus/output/50m_line_RG/50m_analysis/Sum_Zones.npy')\n"
     ]
    }
   ],
   "source": [
    "Sum_Zones = pickle_load('Sum_Zones', path_save)"
   ]
  },
  {
   "cell_type": "code",
   "execution_count": 14,
   "metadata": {
    "collapsed": false
   },
   "outputs": [
    {
     "name": "stdout",
     "output_type": "stream",
     "text": [
      "('loaded from : ', '/data/ebent/Octopus/output/50m_line_RG/50m_analysis/DEP_cross.npy')\n",
      "('loaded from : ', '/data/ebent/Octopus/output/50m_line_RG/50m_analysis/LON_cross.npy')\n",
      "('loaded from : ', '/data/ebent/Octopus/output/50m_line_RG/50m_analysis/TIME_cross.npy')\n"
     ]
    }
   ],
   "source": [
    "DEP_cross = pickle_load('DEP_cross', path_save)\n",
    "LON_cross = pickle_load('LON_cross', path_save)\n",
    "TIME_cross = pickle_load('TIME_cross', path_save)"
   ]
  },
  {
   "cell_type": "code",
   "execution_count": 15,
   "metadata": {
    "collapsed": false
   },
   "outputs": [
    {
     "name": "stdout",
     "output_type": "stream",
     "text": [
      "('loaded from : ', '/data/ebent/Octopus/output/50m_line_RG/Five_Years_1_list.npy')\n"
     ]
    }
   ],
   "source": [
    "Five_Years_1_list = pickle_load('Five_Years_1_list', path_load)"
   ]
  },
  {
   "cell_type": "code",
   "execution_count": 16,
   "metadata": {
    "collapsed": false
   },
   "outputs": [],
   "source": [
    "analysis = []\n",
    "for i in range(len(TIME_cross)):\n",
    "    analysis.append(Five_Years_1_list[np.array(TIME_cross[i])*10])"
   ]
  },
  {
   "cell_type": "code",
   "execution_count": 17,
   "metadata": {
    "collapsed": true
   },
   "outputs": [],
   "source": [
    "from collections import Counter\n",
    "\n",
    "num = Counter(analysis)"
   ]
  },
  {
   "cell_type": "code",
   "execution_count": 18,
   "metadata": {
    "collapsed": true
   },
   "outputs": [],
   "source": [
    "x = list(num.values())\n",
    "y = list(num.keys())"
   ]
  },
  {
   "cell_type": "code",
   "execution_count": 19,
   "metadata": {
    "collapsed": true
   },
   "outputs": [],
   "source": [
    "X = list(x)\n",
    "Y = list(y)"
   ]
  },
  {
   "cell_type": "code",
   "execution_count": 20,
   "metadata": {
    "collapsed": false
   },
   "outputs": [],
   "source": [
    "for i in range(12):\n",
    "    if y[i] == 'JAN':\n",
    "        Y[0] = y[i]\n",
    "        X[0] = x[i]\n",
    "    if y[i] == 'FEV':\n",
    "        Y[1] = y[i]\n",
    "        X[1] = x[i]\n",
    "    if y[i] == 'MAR':\n",
    "        Y[2] = y[i]\n",
    "        X[2] = x[i]\n",
    "    if y[i] == 'APR':\n",
    "        Y[3] = y[i]\n",
    "        X[3] = x[i]\n",
    "    if y[i] == 'MAY':\n",
    "        Y[4] = y[i]\n",
    "        X[4] = x[i]\n",
    "    if y[i] == 'JUN':\n",
    "        Y[5] = y[i]\n",
    "        X[5] = x[i]\n",
    "    if y[i] == 'JUL':\n",
    "        Y[6] = y[i]\n",
    "        X[6] = x[i]\n",
    "    if y[i] == 'AUG':\n",
    "        Y[7] = y[i]\n",
    "        X[7] = x[i]\n",
    "    if y[i] == 'SEP':\n",
    "        Y[8] = y[i]\n",
    "        X[8] = x[i]\n",
    "    if y[i] == 'OCT':\n",
    "        Y[9] = y[i]\n",
    "        X[9] = x[i]\n",
    "    if y[i] == 'NOV':\n",
    "        Y[10] = y[i]\n",
    "        X[10] = x[i]\n",
    "    if y[i] == 'DEC':\n",
    "        Y[11] = y[i]\n",
    "        X[11] = x[i]"
   ]
  },
  {
   "cell_type": "code",
   "execution_count": 21,
   "metadata": {
    "collapsed": false,
    "scrolled": true
   },
   "outputs": [
    {
     "name": "stdout",
     "output_type": "stream",
     "text": [
      "0 JAN\n",
      "1 FEV\n",
      "2 MAR\n",
      "3 APR\n",
      "4 MAY\n",
      "5 JUN\n",
      "6 JUL\n",
      "7 AUG\n",
      "8 SEP\n",
      "9 OCT\n",
      "10 NOV\n",
      "11 DEC\n"
     ]
    }
   ],
   "source": [
    "for i in range(12):\n",
    "    print i, Y[i]"
   ]
  },
  {
   "cell_type": "markdown",
   "metadata": {},
   "source": [
    "***"
   ]
  },
  {
   "cell_type": "markdown",
   "metadata": {},
   "source": [
    "# Line plot"
   ]
  },
  {
   "cell_type": "markdown",
   "metadata": {},
   "source": [
    "### Select the index of the particles in each zone"
   ]
  },
  {
   "cell_type": "code",
   "execution_count": 68,
   "metadata": {
    "collapsed": false
   },
   "outputs": [],
   "source": [
    "def count_in_zones(NPP, xround, yround, zround):\n",
    "    to_east = []\n",
    "    to_west = []\n",
    "    to_north = []\n",
    "    in_RG = []\n",
    "    to_west_east = []\n",
    "    are_masked = []\n",
    "    \n",
    "    for p in range(npts):\n",
    "        south_front = southern_front[yround[:,p],xround[:,p]] # select southern_front of one particle traj\n",
    "        south_front.mask = xround[:,p].mask\n",
    "        \n",
    "        north_outside_RG = np.squeeze(np.array(np.ma.where(south_front==0))) # don't forget to use np.ma when dealing with masks\n",
    "        west_outside_RG = np.squeeze(np.array(np.ma.where(xround[:,p]<=W_boundary))) \n",
    "        east_outside_RG = np.squeeze(np.array(np.ma.where(xround[:,p]>=E_boundary)))\n",
    "        parti_are_masked = np.squeeze(np.array(np.ma.where(xround.mask[:,p]==False)))\n",
    "        \n",
    "        if north_outside_RG.size==0. and west_outside_RG.size==0. and east_outside_RG.size==0. and parti_are_masked.size>0.:\n",
    "            in_RG.append(p)\n",
    "        if north_outside_RG.size>0. and parti_are_masked.size>0.:\n",
    "            to_north.append(p)\n",
    "        if north_outside_RG.size==0. and west_outside_RG.size>0. and east_outside_RG.size==0. and parti_are_masked.size>0.:\n",
    "            to_west.append(p)\n",
    "        if north_outside_RG.size==0. and west_outside_RG.size==0. and east_outside_RG.size>0. and parti_are_masked.size>0.:\n",
    "            to_east.append(p)\n",
    "        if north_outside_RG.size==0. and west_outside_RG.size>0. and east_outside_RG.size>0. and parti_are_masked.size>0.:\n",
    "            to_west_east.append(p)\n",
    "        if parti_are_masked.size==0.:\n",
    "            are_masked.append(p)\n",
    "            \n",
    "    print ''\n",
    "    print 'NPP' + NPP + ' :'\n",
    "    print ''\n",
    "    print 'Particles that stay in the Ross Gyre :', len(in_RG)\n",
    "    print 'Particles that go North :', len(to_north)\n",
    "    print 'Particles that go West :', len(to_west)\n",
    "    print 'Particles that go East :', len(to_east)\n",
    "    print 'Particles that go East then West :', len(to_west_east)\n",
    "    print 'Particles that are masked :', len(are_masked)\n",
    "    print 'Total number of particles not dead :', len(in_RG)+len(to_north)+len(to_west)+len(to_east)+len(to_west_east)\n",
    "    \n",
    "    return in_RG, to_north, to_west, to_east, to_west_east, are_masked"
   ]
  },
  {
   "cell_type": "markdown",
   "metadata": {},
   "source": [
    "### Stores the indexes of zones in a dictionary (Index_Ensembles) of dictionary (Index_Zones)\n",
    "* particles that stay in gyre \n",
    "* particles that go north \n",
    "* particles that go west\n",
    "* particles that go east\n",
    "* particles that are masked all time steps"
   ]
  },
  {
   "cell_type": "code",
   "execution_count": 69,
   "metadata": {
    "collapsed": true
   },
   "outputs": [
    {
     "name": "stdout",
     "output_type": "stream",
     "text": [
      "\n",
      "NPP01 :\n",
      "\n",
      "Particles that stay in the Ross Gyre : 6703\n",
      "Particles that go North : 2294\n",
      "Particles that go West : 49\n",
      "Particles that go East : 954\n",
      "Particles that go East then West : 0\n",
      "Particles that are masked : 0\n",
      "Total number of particles not dead : 10000\n",
      "\n",
      "NPP02 :\n",
      "\n",
      "Particles that stay in the Ross Gyre : 6961\n",
      "Particles that go North : 2133\n",
      "Particles that go West : 50\n",
      "Particles that go East : 856\n",
      "Particles that go East then West : 0\n",
      "Particles that are masked : 0\n",
      "Total number of particles not dead : 10000\n",
      "\n",
      "NPP03 :\n",
      "\n",
      "Particles that stay in the Ross Gyre : 6830\n",
      "Particles that go North : 2191\n",
      "Particles that go West : 58\n",
      "Particles that go East : 921\n",
      "Particles that go East then West : 0\n",
      "Particles that are masked : 0\n",
      "Total number of particles not dead : 10000\n",
      "\n",
      "NPP04 :\n",
      "\n",
      "Particles that stay in the Ross Gyre : 6909\n",
      "Particles that go North : 2085\n",
      "Particles that go West : 68\n",
      "Particles that go East : 938\n",
      "Particles that go East then West : 0\n",
      "Particles that are masked : 0\n",
      "Total number of particles not dead : 10000\n",
      "\n",
      "NPP05 :\n",
      "\n",
      "Particles that stay in the Ross Gyre : 6890\n",
      "Particles that go North : 2115\n",
      "Particles that go West : 60\n",
      "Particles that go East : 935\n",
      "Particles that go East then West : 0\n",
      "Particles that are masked : 0\n",
      "Total number of particles not dead : 10000\n",
      "\n",
      "NPP06 :\n",
      "\n",
      "Particles that stay in the Ross Gyre : 6933\n",
      "Particles that go North : 2127\n",
      "Particles that go West : 72\n",
      "Particles that go East : 868\n",
      "Particles that go East then West : 0\n",
      "Particles that are masked : 0\n",
      "Total number of particles not dead : 10000\n",
      "\n",
      "NPP07 :\n",
      "\n",
      "Particles that stay in the Ross Gyre : 7065\n",
      "Particles that go North : 1954\n",
      "Particles that go West : 56\n",
      "Particles that go East : 925\n",
      "Particles that go East then West : 0\n",
      "Particles that are masked : 0\n",
      "Total number of particles not dead : 10000\n",
      "\n",
      "NPP08 :\n",
      "\n",
      "Particles that stay in the Ross Gyre : 6913\n",
      "Particles that go North : 1923\n",
      "Particles that go West : 43\n",
      "Particles that go East : 1121\n",
      "Particles that go East then West : 0\n",
      "Particles that are masked : 0\n",
      "Total number of particles not dead : 10000\n",
      "\n",
      "NPP09 :\n",
      "\n",
      "Particles that stay in the Ross Gyre : 7091\n",
      "Particles that go North : 1791\n",
      "Particles that go West : 25\n",
      "Particles that go East : 1093\n",
      "Particles that go East then West : 0\n",
      "Particles that are masked : 0\n",
      "Total number of particles not dead : 10000\n",
      "\n",
      "NPP10 :\n",
      "\n",
      "Particles that stay in the Ross Gyre : 6787\n",
      "Particles that go North : 1803\n",
      "Particles that go West : 27\n",
      "Particles that go East : 1383\n",
      "Particles that go East then West : 0\n",
      "Particles that are masked : 0\n",
      "Total number of particles not dead : 10000\n",
      "\n",
      "NPP11 :\n",
      "\n",
      "Particles that stay in the Ross Gyre : 6923\n",
      "Particles that go North : 1778\n",
      "Particles that go West : 33\n",
      "Particles that go East : 1266\n",
      "Particles that go East then West : 0\n",
      "Particles that are masked : 0\n",
      "Total number of particles not dead : 10000\n",
      "\n",
      "NPP12 :\n",
      "\n",
      "Particles that stay in the Ross Gyre : 6908\n",
      "Particles that go North : 1814\n",
      "Particles that go West : 22\n",
      "Particles that go East : 1256\n",
      "Particles that go East then West : 0\n",
      "Particles that are masked : 0\n",
      "Total number of particles not dead : 10000\n",
      "('saved at : ', '/data/ebent/Octopus/output/50m_line_RG/50m_analysis/Index_Ensembles.npy')\n"
     ]
    }
   ],
   "source": [
    "Index_Ensembles = {} \n",
    "\n",
    "for NPP in npp:\n",
    "    Index_Zones = {}\n",
    "\n",
    "    zround = pickle_load('NPP' + NPP + '_zround', path_load, verbose=False)[:max_time_experiment]\n",
    "    yround = pickle_load('NPP' + NPP + '_yround', path_load, verbose=False)[:max_time_experiment]\n",
    "    xround = pickle_load('NPP' + NPP + '_xround', path_load, verbose=False)[:max_time_experiment]\n",
    "\n",
    "    Index_Zones['gyre'], Index_Zones['north'], Index_Zones['west'], Index_Zones['east'], Index_Zones['east_west'], Index_Zones['masked'] = count_in_zones(NPP, xround, yround, zround)\n",
    "    Index_Ensembles[NPP] = Index_Zones\n",
    "\n",
    "pickle_save('Index_Ensembles', path_save, Index_Ensembles)"
   ]
  },
  {
   "cell_type": "markdown",
   "metadata": {},
   "source": [
    "### Function to select parti north with threshold but save also index of parti that actualy ALWAYS stay in gyre"
   ]
  },
  {
   "cell_type": "code",
   "execution_count": 70,
   "metadata": {
    "collapsed": false
   },
   "outputs": [],
   "source": [
    "def thresh(to_north):\n",
    "    thresh_in_gyre = []\n",
    "    thresh_to_north = []\n",
    "    for p in to_north:\n",
    "        \n",
    "        south_front = southern_front[yround[:,p],xround[:,p]] # select southern_front of one particle traj\n",
    "        south_front.mask = xround[:,p].mask # mask elements of south_front that are irrelevant\n",
    "        \n",
    "        where_north = np.squeeze(np.ma.where(south_front==0))\n",
    "        \n",
    "        if where_north.size>2 and where_north[1]==where_north[0]+1 and where_north[2]==where_north[1]+1:\n",
    "            thresh_to_north.append(p)\n",
    "        \n",
    "        else:\n",
    "            thresh_in_gyre.append(p)\n",
    "            \n",
    "    return thresh_to_north, thresh_in_gyre"
   ]
  },
  {
   "cell_type": "code",
   "execution_count": 71,
   "metadata": {
    "collapsed": true
   },
   "outputs": [
    {
     "name": "stdout",
     "output_type": "stream",
     "text": [
      "\n",
      "Particles that go North with threshold : 1402\n",
      "Particles that stay in gyre with threshold : 892\n",
      "Sum :  2294\n",
      "\n",
      "Particles that go North with threshold : 1359\n",
      "Particles that stay in gyre with threshold : 774\n",
      "Sum :  2133\n",
      "\n",
      "Particles that go North with threshold : 1401\n",
      "Particles that stay in gyre with threshold : 790\n",
      "Sum :  2191\n",
      "\n",
      "Particles that go North with threshold : 1363\n",
      "Particles that stay in gyre with threshold : 722\n",
      "Sum :  2085\n",
      "\n",
      "Particles that go North with threshold : 1301\n",
      "Particles that stay in gyre with threshold : 814\n",
      "Sum :  2115\n",
      "\n",
      "Particles that go North with threshold : 1407\n",
      "Particles that stay in gyre with threshold : 720\n",
      "Sum :  2127\n",
      "\n",
      "Particles that go North with threshold : 1272\n",
      "Particles that stay in gyre with threshold : 682\n",
      "Sum :  1954\n",
      "\n",
      "Particles that go North with threshold : 1203\n",
      "Particles that stay in gyre with threshold : 720\n",
      "Sum :  1923\n",
      "\n",
      "Particles that go North with threshold : 1170\n",
      "Particles that stay in gyre with threshold : 621\n",
      "Sum :  1791\n",
      "\n",
      "Particles that go North with threshold : 1168\n",
      "Particles that stay in gyre with threshold : 635\n",
      "Sum :  1803\n",
      "\n",
      "Particles that go North with threshold : 1078\n",
      "Particles that stay in gyre with threshold : 700\n",
      "Sum :  1778\n",
      "\n",
      "Particles that go North with threshold : 1141\n",
      "Particles that stay in gyre with threshold : 673\n",
      "Sum :  1814\n",
      "('saved at : ', '/data/ebent/Octopus/output/50m_line_RG/50m_analysis/Ind_parti_north.npy')\n",
      "('saved at : ', '/data/ebent/Octopus/output/50m_line_RG/50m_analysis/Ind_parti_stay_gyre.npy')\n"
     ]
    }
   ],
   "source": [
    "# Loop to save the p indexes of particles that go north after threshold and those who stay in the RS\n",
    "\n",
    "Ind_parti_north = {}\n",
    "Ind_parti_stay_gyre = {}\n",
    "\n",
    "for NPP in npp:\n",
    "\n",
    "    zround = pickle_load('NPP' + NPP + '_zround', path_load, verbose=False)[:max_time_experiment]\n",
    "    yround = pickle_load('NPP' + NPP + '_yround', path_load, verbose=False)[:max_time_experiment]\n",
    "    xround = pickle_load('NPP' + NPP + '_xround', path_load, verbose=False)[:max_time_experiment]\n",
    "\n",
    "    to_north = Index_Ensembles[NPP]['north']\n",
    "    \n",
    "    thresh_to_north, thresh_in_gyre = thresh(to_north)\n",
    "    \n",
    "    Ind_parti_north[NPP] = thresh_to_north\n",
    "    Ind_parti_stay_gyre[NPP] = thresh_in_gyre\n",
    "    \n",
    "    print ''\n",
    "    print 'Particles that go North with threshold :', len(thresh_to_north)\n",
    "    print 'Particles that stay in gyre with threshold :', len(thresh_in_gyre)\n",
    "    print 'Sum : ', len(thresh_to_north) + len(thresh_in_gyre)\n",
    "    \n",
    "pickle_save('Ind_parti_north', path_save, Ind_parti_north)\n",
    "pickle_save('Ind_parti_stay_gyre', path_save, Ind_parti_stay_gyre)"
   ]
  },
  {
   "cell_type": "code",
   "execution_count": 72,
   "metadata": {
    "collapsed": false
   },
   "outputs": [
    {
     "name": "stdout",
     "output_type": "stream",
     "text": [
      "('saved at : ', '/data/ebent/Octopus/output/50m_line_RG/50m_analysis/T_step_parti_north.npy')\n"
     ]
    }
   ],
   "source": [
    "# Loop to save the t indexes of particles that go north thanks to index of p we selected above, use of southern_front\n",
    "\n",
    "T_step_parti_north = {}\n",
    "\n",
    "for NPP in npp:\n",
    "    \n",
    "    yround = pickle_load('NPP' + NPP + '_yround', path_load, verbose=False)[:max_time_experiment]\n",
    "    xround = pickle_load('NPP' + NPP + '_xround', path_load, verbose=False)[:max_time_experiment]\n",
    "\n",
    "    t_to_north = []\n",
    "    \n",
    "    for i in range(len(Ind_parti_north[NPP])):\n",
    "    \n",
    "        tmp = np.squeeze(np.array(np.ma.where(southern_front[yround[:,Ind_parti_north[NPP][i]], xround[:,Ind_parti_north[NPP][i]]]==0)))\n",
    "        \n",
    "        if tmp.size == 1:\n",
    "            t_to_north.append(np.int_(tmp))\n",
    "        else:\n",
    "            t_to_north.append(tmp[0])\n",
    "                                  \n",
    "    T_step_parti_north[NPP] = t_to_north\n",
    "\n",
    "pickle_save('T_step_parti_north', path_save, T_step_parti_north)"
   ]
  },
  {
   "cell_type": "markdown",
   "metadata": {},
   "source": [
    "### Check of nb of parti in RS and nb of parti considered in RS after threshold test"
   ]
  },
  {
   "cell_type": "code",
   "execution_count": 29,
   "metadata": {
    "collapsed": false
   },
   "outputs": [
    {
     "name": "stdout",
     "output_type": "stream",
     "text": [
      "Always in RS : 6703\n",
      "In RS with threshold : 892\n",
      "Sum :  7595\n",
      "\n",
      "Always in RS : 6961\n",
      "In RS with threshold : 774\n",
      "Sum :  7735\n",
      "\n",
      "Always in RS : 6830\n",
      "In RS with threshold : 790\n",
      "Sum :  7620\n",
      "\n",
      "Always in RS : 6909\n",
      "In RS with threshold : 722\n",
      "Sum :  7631\n",
      "\n",
      "Always in RS : 6890\n",
      "In RS with threshold : 814\n",
      "Sum :  7704\n",
      "\n",
      "Always in RS : 6933\n",
      "In RS with threshold : 720\n",
      "Sum :  7653\n",
      "\n",
      "Always in RS : 7065\n",
      "In RS with threshold : 682\n",
      "Sum :  7747\n",
      "\n",
      "Always in RS : 6913\n",
      "In RS with threshold : 720\n",
      "Sum :  7633\n",
      "\n",
      "Always in RS : 7091\n",
      "In RS with threshold : 621\n",
      "Sum :  7712\n",
      "\n",
      "Always in RS : 6787\n",
      "In RS with threshold : 635\n",
      "Sum :  7422\n",
      "\n",
      "Always in RS : 6923\n",
      "In RS with threshold : 700\n",
      "Sum :  7623\n",
      "\n",
      "Always in RS : 6908\n",
      "In RS with threshold : 673\n",
      "Sum :  7581\n",
      "\n"
     ]
    }
   ],
   "source": [
    "for NPP in npp:\n",
    "    print 'Always in RS :', len(Index_Ensembles[NPP]['gyre']) \n",
    "    print 'In RS with threshold :', len(Ind_parti_stay_gyre[NPP])\n",
    "    print 'Sum : ', len(Index_Ensembles[NPP]['gyre']) + len(Ind_parti_stay_gyre[NPP]) # this is = to new len of index for in RS\n",
    "    print ''"
   ]
  },
  {
   "cell_type": "markdown",
   "metadata": {},
   "source": [
    "### Add the index of parti in RS to index of parti that are considered in RS after test of threshold ( = to \"Sum :\" right above)"
   ]
  },
  {
   "cell_type": "code",
   "execution_count": 62,
   "metadata": {
    "collapsed": false
   },
   "outputs": [
    {
     "name": "stdout",
     "output_type": "stream",
     "text": [
      "7595\n",
      "7735\n",
      "7620\n",
      "7631\n",
      "7704\n",
      "7653\n",
      "7747\n",
      "7633\n",
      "7712\n",
      "7422\n",
      "7623\n",
      "7581\n"
     ]
    }
   ],
   "source": [
    "for NPP in npp:\n",
    "    interm_list = list(Index_Ensembles[NPP]['gyre']) + list(Ind_parti_stay_gyre[NPP])\n",
    "    Index_Ensembles[NPP]['gyre'] = []\n",
    "    Index_Ensembles[NPP]['gyre'] = list(interm_list)\n",
    "    print len(Index_Ensembles[NPP]['gyre'])"
   ]
  },
  {
   "cell_type": "code",
   "execution_count": 35,
   "metadata": {
    "collapsed": false
   },
   "outputs": [
    {
     "name": "stdout",
     "output_type": "stream",
     "text": [
      "Nb north before threshold : 2294\n",
      "Nb north AFTER threshold : 1402\n",
      "Diff :  892\n",
      "\n",
      "Nb north before threshold : 2133\n",
      "Nb north AFTER threshold : 1359\n",
      "Diff :  774\n",
      "\n",
      "Nb north before threshold : 2191\n",
      "Nb north AFTER threshold : 1401\n",
      "Diff :  790\n",
      "\n",
      "Nb north before threshold : 2085\n",
      "Nb north AFTER threshold : 1363\n",
      "Diff :  722\n",
      "\n",
      "Nb north before threshold : 2115\n",
      "Nb north AFTER threshold : 1301\n",
      "Diff :  814\n",
      "\n",
      "Nb north before threshold : 2127\n",
      "Nb north AFTER threshold : 1407\n",
      "Diff :  720\n",
      "\n",
      "Nb north before threshold : 1954\n",
      "Nb north AFTER threshold : 1272\n",
      "Diff :  682\n",
      "\n",
      "Nb north before threshold : 1923\n",
      "Nb north AFTER threshold : 1203\n",
      "Diff :  720\n",
      "\n",
      "Nb north before threshold : 1791\n",
      "Nb north AFTER threshold : 1170\n",
      "Diff :  621\n",
      "\n",
      "Nb north before threshold : 1803\n",
      "Nb north AFTER threshold : 1168\n",
      "Diff :  635\n",
      "\n",
      "Nb north before threshold : 1778\n",
      "Nb north AFTER threshold : 1078\n",
      "Diff :  700\n",
      "\n",
      "Nb north before threshold : 1814\n",
      "Nb north AFTER threshold : 1141\n",
      "Diff :  673\n",
      "\n"
     ]
    }
   ],
   "source": [
    "for NPP in npp:\n",
    "    print 'Nb north before threshold :', len(Index_Ensembles[NPP]['north'])\n",
    "    print 'Nb north AFTER threshold :', len(Ind_parti_north[NPP])\n",
    "    print 'Diff : ', len(Index_Ensembles[NPP]['north']) - len(Ind_parti_north[NPP]) # this is = to len(Ind_parti_stay_gyre[NPP])\n",
    "    print ''"
   ]
  },
  {
   "cell_type": "markdown",
   "metadata": {},
   "source": [
    "### The new list of ind of parti that go north is equal to the list obtained with threshold ( = to \"AFTER threshold :\" from above)"
   ]
  },
  {
   "cell_type": "code",
   "execution_count": 77,
   "metadata": {
    "collapsed": false
   },
   "outputs": [
    {
     "name": "stdout",
     "output_type": "stream",
     "text": [
      "1402\n",
      "1359\n",
      "1401\n",
      "1363\n",
      "1301\n",
      "1407\n",
      "1272\n",
      "1203\n",
      "1170\n",
      "1168\n",
      "1078\n",
      "1141\n",
      "('saved at : ', '/data/ebent/Octopus/output/50m_line_RG/50m_analysis/Index_Ensembles.npy')\n"
     ]
    }
   ],
   "source": [
    "for NPP in npp:\n",
    "    Index_Ensembles[NPP]['north'] = []\n",
    "    Index_Ensembles[NPP]['north'] = list(Ind_parti_north[NPP])\n",
    "    print len(Index_Ensembles[NPP]['north'])\n",
    "\n",
    "pickle_save('Index_Ensembles', path_save, Index_Ensembles)"
   ]
  },
  {
   "cell_type": "markdown",
   "metadata": {},
   "source": [
    "### Load and then check if len are the same as just above as with lists you need to be careful ..."
   ]
  },
  {
   "cell_type": "code",
   "execution_count": 78,
   "metadata": {
    "collapsed": false,
    "scrolled": false
   },
   "outputs": [
    {
     "name": "stdout",
     "output_type": "stream",
     "text": [
      "('loaded from : ', '/data/ebent/Octopus/output/50m_line_RG/50m_analysis/Index_Ensembles.npy')\n"
     ]
    }
   ],
   "source": [
    "Index_Ensembles = pickle_load('Index_Ensembles', path_save)"
   ]
  },
  {
   "cell_type": "code",
   "execution_count": 66,
   "metadata": {
    "collapsed": false
   },
   "outputs": [
    {
     "name": "stdout",
     "output_type": "stream",
     "text": [
      "1402 7595\n",
      "1359 7735\n",
      "1401 7620\n",
      "1363 7631\n",
      "1301 7704\n",
      "1407 7653\n",
      "1272 7747\n",
      "1203 7633\n",
      "1170 7712\n",
      "1168 7422\n",
      "1078 7623\n",
      "1141 7581\n"
     ]
    }
   ],
   "source": [
    "for NPP in npp:\n",
    "    print len(Index_Ensembles[NPP]['north']), len(Index_Ensembles[NPP]['gyre'])"
   ]
  },
  {
   "cell_type": "markdown",
   "metadata": {},
   "source": [
    "### Test if we add up all the zones do we find the number of initial parti ?"
   ]
  },
  {
   "cell_type": "code",
   "execution_count": 80,
   "metadata": {
    "collapsed": false
   },
   "outputs": [
    {
     "name": "stdout",
     "output_type": "stream",
     "text": [
      "10000\n",
      "10000\n",
      "10000\n",
      "10000\n",
      "10000\n",
      "10000\n",
      "10000\n",
      "10000\n",
      "10000\n",
      "10000\n",
      "10000\n",
      "10000\n"
     ]
    }
   ],
   "source": [
    "for NPP in npp:\n",
    "    print len(Index_Ensembles[NPP]['north'])+len(Index_Ensembles[NPP]['gyre'])+len(Index_Ensembles[NPP]['east'])+len(Index_Ensembles[NPP]['west'])+len(Index_Ensembles[NPP]['east_west'])"
   ]
  },
  {
   "cell_type": "code",
   "execution_count": 196,
   "metadata": {
    "collapsed": false
   },
   "outputs": [],
   "source": [
    "total_NPTS = 12 *(len(Index_Ensembles[NPP]['north'])+len(Index_Ensembles[NPP]['gyre'])+len(Index_Ensembles[NPP]['east'])+len(Index_Ensembles[NPP]['west'])+len(Index_Ensembles[NPP]['east_west']))"
   ]
  },
  {
   "cell_type": "code",
   "execution_count": 197,
   "metadata": {
    "collapsed": false
   },
   "outputs": [
    {
     "data": {
      "text/plain": [
       "120000"
      ]
     },
     "execution_count": 197,
     "metadata": {},
     "output_type": "execute_result"
    }
   ],
   "source": [
    "total_NPTS"
   ]
  },
  {
   "cell_type": "markdown",
   "metadata": {},
   "source": [
    "***"
   ]
  },
  {
   "cell_type": "markdown",
   "metadata": {},
   "source": [
    "# Que faire pour threshold ??"
   ]
  },
  {
   "cell_type": "code",
   "execution_count": 28,
   "metadata": {
    "collapsed": false
   },
   "outputs": [],
   "source": [
    "NPP = '02'\n",
    "zone = 'gyre'\n",
    "ind = Index_Ensembles[NPP][zone]"
   ]
  },
  {
   "cell_type": "code",
   "execution_count": 203,
   "metadata": {
    "collapsed": true
   },
   "outputs": [],
   "source": [
    "ind = Ind_parti_stay_gyre[NPP]"
   ]
  },
  {
   "cell_type": "code",
   "execution_count": 29,
   "metadata": {
    "collapsed": true
   },
   "outputs": [],
   "source": [
    "xround = pickle_load('NPP' + NPP + '_xround', path_load, verbose=False)[:max_time_experiment]\n",
    "yround = pickle_load('NPP' + NPP + '_yround', path_load, verbose=False)[:max_time_experiment]"
   ]
  },
  {
   "cell_type": "markdown",
   "metadata": {},
   "source": [
    "Looks at parti that have at least three time steps over front but not consecutively, therefore they fall in 'gyre' category"
   ]
  },
  {
   "cell_type": "markdown",
   "metadata": {},
   "source": [
    "Selects in test the parti of 'gyre' with 3 time steps or more over front"
   ]
  },
  {
   "cell_type": "code",
   "execution_count": 40,
   "metadata": {
    "collapsed": false
   },
   "outputs": [],
   "source": [
    "test = []\n",
    "for p in ind:\n",
    "    south_front = southern_front[yround[:,p],xround[:,p]] # select southern_front of one particle traj\n",
    "    south_front.mask = xround[:,p].mask\n",
    "    where = np.squeeze(np.ma.where(south_front==0))\n",
    "    \n",
    "    if where.size>2: # and where[1]==where[0]+1 and where[2]==where[1]+1:\n",
    "        #print np.int_(south_front)\n",
    "        #print ''\n",
    "        #print where\n",
    "        #print ''\n",
    "        #print 'size : ', where.size, ', choses :', where[0], where[1], where[2] \n",
    "        #print ''\n",
    "        test.append(p)"
   ]
  },
  {
   "cell_type": "code",
   "execution_count": 41,
   "metadata": {
    "collapsed": false,
    "scrolled": true
   },
   "outputs": [
    {
     "data": {
      "text/plain": [
       "503"
      ]
     },
     "execution_count": 41,
     "metadata": {},
     "output_type": "execute_result"
    }
   ],
   "source": [
    "len(test)"
   ]
  },
  {
   "cell_type": "markdown",
   "metadata": {},
   "source": [
    "Shows that the first 6 parti that have 3 time steps over front (but not consecutively) sometimes stay in front afterwards, what do I do...?"
   ]
  },
  {
   "cell_type": "code",
   "execution_count": 226,
   "metadata": {
    "collapsed": false
   },
   "outputs": [
    {
     "name": "stdout",
     "output_type": "stream",
     "text": [
      "[1 1 1 1 1 1 1 1 1 1 1 1 1 1 1 1 1 1 1 1 1 1 1 1 1 1 1 1 1 1 1 1 1 1 1 1 1\n",
      " 1 1 1 1 1 1 1 1 1 1 1 1 1 1 1 1 1 1 1 1 1 1 1 1 1 1 1 1 1 1 1 1 1 1 1 1 1\n",
      " 1 1 1 1 1 1 1 1 1 1 1 1 1 1 1 1 1 1 1 1 1 1 1 1 1 1 1 1 1 1 1 1 1 1 1 1 1\n",
      " 1 1 1 1 1 1 1 1 1 1 1 1 1 1 1 0 0 1 0 0 0 0 0 0 0 0 0 0 0 1 0 0 0 1 0 0 1]\n",
      "\n",
      "[1 1 1 1 1 1 1 1 1 1 1 1 1 1 1 1 1 1 1 1 1 1 1 1 1 1 1 1 1 1 1 1 1 1 1 1 1\n",
      " 1 1 1 1 1 1 1 1 1 1 1 1 1 1 1 1 1 1 1 1 1 1 1 1 1 1 1 1 1 1 1 1 1 1 1 1 1\n",
      " 1 1 0 1 0 0 0 1 1 1 1 1 1 1 1 1 1 1 1 1 1 1 1 1 1 1 1 1 1 1 1 1 1 1 1 1 1\n",
      " 0 0 1 1 1 1 1 -- -- -- -- -- -- -- -- -- -- -- -- -- -- -- -- -- -- -- --\n",
      " -- -- -- -- -- -- -- -- -- --]\n",
      "\n",
      "[1 1 1 1 1 1 1 1 1 1 1 1 1 1 1 1 1 1 1 1 1 1 1 1 1 1 1 1 1 1 1 1 1 1 1 1 1\n",
      " 1 1 1 1 1 1 1 1 1 1 1 1 1 1 1 1 1 1 1 1 1 1 1 1 1 1 1 1 1 1 1 1 1 1 1 1 1\n",
      " 1 1 1 1 1 1 1 1 1 1 1 1 1 1 1 1 1 1 1 1 1 1 1 1 1 1 1 1 1 1 1 1 1 1 1 1 1\n",
      " 1 0 0 1 0 0 0 0 0 0 0 0 0 0 0 0 0 0 0 0 0 0 0 0 0 0 0 0 0 0 0 0 0 0 0 0 0]\n",
      "\n",
      "[1 1 1 1 1 1 1 1 1 1 1 1 1 1 1 1 1 1 1 1 1 1 1 1 1 1 1 1 1 1 1 1 1 1 1 1 1\n",
      " 1 1 1 1 1 1 1 1 1 1 1 1 1 1 1 1 1 1 1 1 1 1 1 1 1 1 1 1 1 1 1 1 1 1 1 1 1\n",
      " 1 1 1 1 1 1 1 1 1 1 1 1 1 1 1 1 1 1 1 1 1 1 1 1 1 1 1 1 1 1 1 1 1 1 1 1 1\n",
      " 1 1 1 1 1 1 1 1 1 1 1 1 1 1 1 0 0 1 0 0 0 0 0 0 0 0 0 0 0 1 0 0 0 1 0 0 1]\n",
      "\n",
      "[1 1 1 1 1 1 1 1 1 1 1 1 1 1 1 1 1 1 1 1 1 1 1 1 1 1 1 1 1 1 1 1 1 1 1 1 1\n",
      " 1 1 1 1 1 1 1 1 1 1 1 1 1 1 1 1 1 1 1 1 1 1 1 1 1 1 1 1 1 1 1 1 1 1 1 1 1\n",
      " 1 1 0 1 0 0 0 1 1 1 1 1 1 1 1 1 1 1 1 1 1 1 1 1 1 1 1 1 1 1 1 1 1 1 1 1 1\n",
      " 0 0 1 1 1 1 1 -- -- -- -- -- -- -- -- -- -- -- -- -- -- -- -- -- -- -- --\n",
      " -- -- -- -- -- -- -- -- -- --]\n",
      "\n",
      "[1 1 1 1 1 1 1 1 1 1 1 1 1 1 1 1 1 1 1 1 1 1 1 1 1 1 1 1 1 1 1 1 1 1 1 1 1\n",
      " 1 1 1 1 1 1 1 1 1 1 1 1 1 1 1 1 1 1 1 1 1 1 1 1 1 1 1 1 1 1 1 1 1 1 1 1 1\n",
      " 1 1 1 1 1 1 1 1 1 1 1 1 1 1 1 1 1 1 1 1 1 1 1 1 1 1 1 1 1 1 1 1 1 1 1 1 1\n",
      " 1 0 0 1 0 0 0 0 0 0 0 0 0 0 0 0 0 0 0 0 0 0 0 0 0 0 0 0 0 0 0 0 0 0 0 0 0]\n",
      "\n"
     ]
    }
   ],
   "source": [
    "for p in test[:6]:\n",
    "    south_front = southern_front[yround[:,p],xround[:,p]] # select southern_front of one particle traj\n",
    "    south_front.mask = xround[:,p].mask\n",
    "    where = np.squeeze(np.ma.where(south_front==0))\n",
    "    if where.size>=6: #and where[1]==where[0]+1 and where[2]==where[1]+1:\n",
    "        print np.int_(south_front)\n",
    "        print ''"
   ]
  },
  {
   "cell_type": "markdown",
   "metadata": {},
   "source": [
    "***"
   ]
  },
  {
   "cell_type": "markdown",
   "metadata": {},
   "source": [
    "### Count parti over time"
   ]
  },
  {
   "cell_type": "code",
   "execution_count": 81,
   "metadata": {
    "collapsed": false
   },
   "outputs": [],
   "source": [
    "def count_zones2(zone, name_var_zone):  \n",
    "    npp = ['01', '02', '03', '04', '05', '06', '07', '08', '09', '10', '11', '12']\n",
    "    \n",
    "    for NPP in npp: \n",
    "        \n",
    "        xround = pickle_load('NPP' + NPP + '_xround', path_load, verbose=False)[:max_time_experiment]\n",
    "        yround = pickle_load('NPP' + NPP + '_yround', path_load, verbose=False)[:max_time_experiment]\n",
    "        \n",
    "        var_zone = np.zeros(xround.shape[0])\n",
    "        dead = np.zeros(xround.shape[0])\n",
    "        \n",
    "        ind_particle = Index_Ensembles[NPP][zone]\n",
    "                \n",
    "        print NPP\n",
    "        for p in ind_particle:\n",
    "            south_front = southern_front[yround[:,p],xround[:,p]] # select southern_front of one particle traj\n",
    "            south_front.mask = xround[:,p].mask # mask elements of south_front that are irrelevant\n",
    "            \n",
    "            if zone == 'gyre':\n",
    "                for t in range(xround.shape[0]): \n",
    "                    if xround.mask[t,p]==False: # south_front[t]!=0 and \n",
    "                        var_zone[t]+=1\n",
    "                    elif xround.mask[t,p]==True: # south_front[t-1]!=0 and\n",
    "                        dead[t:]+=1\n",
    "                        break                      \n",
    "            \n",
    "            if zone == 'north':\n",
    "                for t in range(xround.shape[0]): \n",
    "                    if south_front[t]==0:\n",
    "                        var_zone[t:]+=1\n",
    "                        break\n",
    "\n",
    "            if zone == 'west':\n",
    "                for t in range(xround.shape[0]): \n",
    "                    if xround[t,p]<=W_boundary:\n",
    "                        var_zone[t:]+=1\n",
    "                        break\n",
    "            \n",
    "            if zone == 'east':\n",
    "                for t in range(xround.shape[0]): \n",
    "                    if xround[t,p]>=E_boundary:\n",
    "                        var_zone[t:]+=1\n",
    "                        break\n",
    "                        \n",
    "            if zone == 'east_west':\n",
    "                for t in range(xround.shape[0]): \n",
    "                    if xround[t,p]<=W_boundary and xround[t,p]>=E_boundary:\n",
    "                        var_zone[t:]+=1\n",
    "                        break\n",
    "        \n",
    "        pickle_save('NPP' + NPP + '_' + name_var_zone, path_save, var_zone, verbose=False)\n",
    "        \n",
    "        if zone == 'gyre':\n",
    "            pickle_save('NPP' + NPP + '_' + 'dead', path_save, dead, verbose=False)"
   ]
  },
  {
   "cell_type": "code",
   "execution_count": 82,
   "metadata": {
    "collapsed": true
   },
   "outputs": [
    {
     "name": "stdout",
     "output_type": "stream",
     "text": [
      "01\n",
      "02\n",
      "03\n",
      "04\n",
      "05\n",
      "06\n",
      "07\n",
      "08\n",
      "09\n",
      "10\n",
      "11\n",
      "12\n"
     ]
    }
   ],
   "source": [
    "count_zones2('gyre', 'Z1')"
   ]
  },
  {
   "cell_type": "code",
   "execution_count": 83,
   "metadata": {
    "collapsed": true
   },
   "outputs": [
    {
     "name": "stdout",
     "output_type": "stream",
     "text": [
      "01\n",
      "02\n",
      "03\n",
      "04\n",
      "05\n",
      "06\n",
      "07\n",
      "08\n",
      "09\n",
      "10\n",
      "11\n",
      "12\n"
     ]
    }
   ],
   "source": [
    "count_zones2('north', 'Z2')"
   ]
  },
  {
   "cell_type": "code",
   "execution_count": 84,
   "metadata": {
    "collapsed": true
   },
   "outputs": [
    {
     "name": "stdout",
     "output_type": "stream",
     "text": [
      "01\n",
      "02\n",
      "03\n",
      "04\n",
      "05\n",
      "06\n",
      "07\n",
      "08\n",
      "09\n",
      "10\n",
      "11\n",
      "12\n"
     ]
    }
   ],
   "source": [
    "count_zones2('west', 'Z3')"
   ]
  },
  {
   "cell_type": "code",
   "execution_count": 85,
   "metadata": {
    "collapsed": true
   },
   "outputs": [
    {
     "name": "stdout",
     "output_type": "stream",
     "text": [
      "01\n",
      "02\n",
      "03\n",
      "04\n",
      "05\n",
      "06\n",
      "07\n",
      "08\n",
      "09\n",
      "10\n",
      "11\n",
      "12\n"
     ]
    }
   ],
   "source": [
    "count_zones2('east', 'Z4')"
   ]
  },
  {
   "cell_type": "code",
   "execution_count": 86,
   "metadata": {
    "collapsed": true
   },
   "outputs": [
    {
     "name": "stdout",
     "output_type": "stream",
     "text": [
      "01\n",
      "02\n",
      "03\n",
      "04\n",
      "05\n",
      "06\n",
      "07\n",
      "08\n",
      "09\n",
      "10\n",
      "11\n",
      "12\n"
     ]
    }
   ],
   "source": [
    "count_zones2('east_west', 'Z5')"
   ]
  },
  {
   "cell_type": "markdown",
   "metadata": {},
   "source": [
    "### Stores the calc of zones in a dictionary (Ensembles) of dictionary (Zones)"
   ]
  },
  {
   "cell_type": "code",
   "execution_count": 87,
   "metadata": {
    "collapsed": true
   },
   "outputs": [],
   "source": [
    "Ensembles = {}   \n",
    "\n",
    "for NPP in npp:\n",
    "    Zones = {}\n",
    "    \n",
    "    for zone in Z:\n",
    "        Zones[zone] = pickle_load('NPP' + NPP + '_' + zone, path_save, verbose=False)[:max_time_experiment]\n",
    "        \n",
    "    Ensembles[NPP] = Zones"
   ]
  },
  {
   "cell_type": "code",
   "execution_count": 88,
   "metadata": {
    "collapsed": false,
    "scrolled": false
   },
   "outputs": [
    {
     "name": "stdout",
     "output_type": "stream",
     "text": [
      "('saved at : ', '/data/ebent/Octopus/output/50m_line_RG/50m_analysis/Ensembles.npy')\n"
     ]
    }
   ],
   "source": [
    "pickle_save('Ensembles', path_save, Ensembles)"
   ]
  },
  {
   "cell_type": "code",
   "execution_count": 49,
   "metadata": {
    "collapsed": false,
    "scrolled": false
   },
   "outputs": [
    {
     "name": "stdout",
     "output_type": "stream",
     "text": [
      "('loaded from : ', '/data/ebent/Octopus/output/50m_line_RG/new_test/Ensembles.npy')\n"
     ]
    }
   ],
   "source": [
    "Ensembles = pickle_load('Ensembles', path_save)"
   ]
  },
  {
   "cell_type": "markdown",
   "metadata": {},
   "source": [
    "### Calc dictionary (Sum_Zones) with sum over all NPPs of each zones"
   ]
  },
  {
   "cell_type": "code",
   "execution_count": 89,
   "metadata": {
    "collapsed": false
   },
   "outputs": [],
   "source": [
    "Sum_Zones = {}\n",
    "\n",
    "for NPP in npp:\n",
    "    for zone in Z:\n",
    "        \n",
    "        if NPP == '01':\n",
    "            Sum_Zones[zone] = Ensembles[NPP][zone].copy()\n",
    "        else:\n",
    "            Sum_Zones[zone] += Ensembles[NPP][zone]"
   ]
  },
  {
   "cell_type": "markdown",
   "metadata": {},
   "source": [
    "#### Necessary as Z1 with calc in index only calculated for parti ALWAYS in ross sea, so use this trick\n",
    "Takes into account the parti in the RS but not counted in Z1"
   ]
  },
  {
   "cell_type": "code",
   "execution_count": 90,
   "metadata": {
    "collapsed": false
   },
   "outputs": [],
   "source": [
    "in_RG_dbt = total_NPTS - Sum_Zones['Z1'][0]"
   ]
  },
  {
   "cell_type": "code",
   "execution_count": 91,
   "metadata": {
    "collapsed": true
   },
   "outputs": [],
   "source": [
    "Sum_Zones['Z1'] = Sum_Zones['Z1'] + in_RG_dbt - (Sum_Zones['Z2'] + Sum_Zones['Z3'] + Sum_Zones['Z4'] + Sum_Zones['Z5'])"
   ]
  },
  {
   "cell_type": "code",
   "execution_count": 92,
   "metadata": {
    "collapsed": false
   },
   "outputs": [
    {
     "data": {
      "text/plain": [
       "120000.0"
      ]
     },
     "execution_count": 92,
     "metadata": {},
     "output_type": "execute_result"
    }
   ],
   "source": [
    "Sum_Zones['Z1'][0]"
   ]
  },
  {
   "cell_type": "code",
   "execution_count": 93,
   "metadata": {
    "collapsed": false,
    "scrolled": true
   },
   "outputs": [
    {
     "name": "stdout",
     "output_type": "stream",
     "text": [
      "('saved at : ', '/data/ebent/Octopus/output/50m_line_RG/50m_analysis/Sum_Zones.npy')\n"
     ]
    }
   ],
   "source": [
    "pickle_save('Sum_Zones', path_save, Sum_Zones)"
   ]
  },
  {
   "cell_type": "code",
   "execution_count": 44,
   "metadata": {
    "collapsed": false,
    "scrolled": true
   },
   "outputs": [
    {
     "name": "stdout",
     "output_type": "stream",
     "text": [
      "('loaded from : ', '/data/ebent/Octopus/output/50m_line_RG/new_test/rapid/Sum_Zones.npy')\n"
     ]
    }
   ],
   "source": [
    "Sum_Zones = pickle_load('Sum_Zones', path_save)"
   ]
  },
  {
   "cell_type": "code",
   "execution_count": 94,
   "metadata": {
    "collapsed": false
   },
   "outputs": [
    {
     "name": "stdout",
     "output_type": "stream",
     "text": [
      "120000.0\n",
      "0.0\n",
      "0.0\n",
      "0.0\n",
      "0.0\n",
      "0.0\n",
      "Sum : 120000.0\n"
     ]
    }
   ],
   "source": [
    "t = 0\n",
    "print Sum_Zones['Z1'][t]\n",
    "print Sum_Zones['Z2'][t]\n",
    "print Sum_Zones['Z3'][t]\n",
    "print Sum_Zones['Z4'][t]\n",
    "print Sum_Zones['Z5'][t]\n",
    "print Sum_Zones['dead'][t]\n",
    "\n",
    "print 'Sum :', Sum_Zones['Z1'][t]+Sum_Zones['Z2'][t]+Sum_Zones['Z3'][t]+Sum_Zones['Z4'][t]+Sum_Zones['Z5'][t]+Sum_Zones['dead'][t]"
   ]
  },
  {
   "cell_type": "code",
   "execution_count": 95,
   "metadata": {
    "collapsed": false
   },
   "outputs": [
    {
     "name": "stdout",
     "output_type": "stream",
     "text": [
      "72840.0\n",
      "15265.0\n",
      "563.0\n",
      "12516.0\n",
      "0.0\n",
      "18816.0\n",
      "Sum : 120000.0\n"
     ]
    }
   ],
   "source": [
    "t = -1\n",
    "print Sum_Zones['Z1'][t]\n",
    "print Sum_Zones['Z2'][t]\n",
    "print Sum_Zones['Z3'][t]\n",
    "print Sum_Zones['Z4'][t]\n",
    "print Sum_Zones['Z5'][t]\n",
    "print Sum_Zones['dead'][t]\n",
    "\n",
    "print 'Sum :', Sum_Zones['Z1'][t]+Sum_Zones['Z2'][t]+Sum_Zones['Z3'][t]+Sum_Zones['Z4'][t]+Sum_Zones['Z5'][t]+Sum_Zones['dead'][t]"
   ]
  },
  {
   "cell_type": "markdown",
   "metadata": {},
   "source": [
    "### Plot the particle analysis\n",
    "\n",
    "With dictionary"
   ]
  },
  {
   "cell_type": "code",
   "execution_count": 22,
   "metadata": {
    "collapsed": false,
    "scrolled": false
   },
   "outputs": [],
   "source": [
    "def plot_1NPP(npts, title, dictionary_of_zones, linewidth):\n",
    "    \n",
    "    import matplotlib.pyplot as plt\n",
    "    import numpy as np\n",
    "    fig  = plt.figure(figsize=(7,4.3))\n",
    "    time = (np.arange(np.int_(dictionary_of_zones['Z1'].shape))*10)/360. #(np.arange(148)*10)/360. #(np.arange(np.int_(Z1.shape))*10)/360.\n",
    "    \n",
    "    ax1 = fig.add_subplot(2,1,1)\n",
    "    #plt.subplot(2,1,1)\n",
    "    ax1.plot(time, dictionary_of_zones['Z1'] *100./npts, '-y', label='Ross Sea', linewidth=linewidth)\n",
    "    \n",
    "    ax1.legend(loc='lower left', fontsize=12) #bbox_to_anchor=(1.04,0.5)\n",
    "    ax1.set_ylabel('Particles [%]', fontsize=20, labelpad=15, y=-0.01)\n",
    "    ax1.set_xticklabels([])\n",
    "    ax1.tick_params(labelsize=14)\n",
    "   \n",
    "    ax2 = fig.add_subplot(2,1,2)\n",
    "    ax2.plot(time, dictionary_of_zones['Z2'] *100./npts, '-r', label='North of ACC front', linewidth=linewidth)\n",
    "    ax2.plot(time, dictionary_of_zones['Z3'] *100./npts, '-g', label='West', linewidth=linewidth)\n",
    "    ax2.plot(time, dictionary_of_zones['Z4'] *100./npts, '-b', label='East', linewidth=linewidth)\n",
    "    #ax2.plot(time, dictionary_of_zones['Z5'] *100./npts, '-c', label='East and West', linewidth=linewidth)\n",
    "    ax2.plot(time, dictionary_of_zones['dead'] *100./npts, '-k', label='Hit land in Ross Sea', linewidth=linewidth)\n",
    "    \n",
    "    ax2.legend(loc='upper left', fontsize=12)\n",
    "    ax2.set_xlabel('Time [years]', fontsize=20, labelpad=10)\n",
    "    ax2.tick_params(labelsize=14)\n",
    "    #ax2.set_ylabel('Particles [%]', fontsize=20, labelpad=10, y=1.09)\n",
    "    \n",
    "    fig.suptitle(title, fontsize=26, y=1.02)\n",
    "    fig.subplots_adjust(bottom=0.1)\n",
    "    #fig.tight_layout()\n",
    "    plt.savefig('/home/ebent/Final_figs/' + 'line_plot_50m.png', bbox_inches='tight')#, dpi=300)#, format='pdf') #  dpi=1000,\n",
    "\n",
    "    print ''\n",
    "    print 'Total nb of particles that stay in the Ross Sea :', np.int_(np.array(dictionary_of_zones['Z1'][-1]))\n",
    "    print 'Total nb of particles that go North :', np.int_(np.array(dictionary_of_zones['Z2'][-1]))\n",
    "    print 'Total nb of particles that go West :', np.int_(np.array(dictionary_of_zones['Z3'][-1]))\n",
    "    print 'Total nb of particles that go East :', np.int_(np.array(dictionary_of_zones['Z4'][-1]))\n",
    "    print 'Total nb of particles that go East then West :', np.int_(np.array(dictionary_of_zones['Z5'][-1]))\n",
    "    print 'Total nb of particles that die in the Ross Sea :', np.int_(np.array(dictionary_of_zones['dead'][-1]))\n",
    "    print ''\n",
    "    print 'Total number of particles :', np.int_(np.array(dictionary_of_zones['Z1'][0]))\n",
    "    print ''"
   ]
  },
  {
   "cell_type": "code",
   "execution_count": 23,
   "metadata": {
    "collapsed": false
   },
   "outputs": [
    {
     "name": "stdout",
     "output_type": "stream",
     "text": [
      "\n",
      "Total nb of particles that stay in the Ross Sea : 72840\n",
      "Total nb of particles that go North : 15265\n",
      "Total nb of particles that go West : 563\n",
      "Total nb of particles that go East : 12516\n",
      "Total nb of particles that go East then West : 0\n",
      "Total nb of particles that die in the Ross Sea : 18816\n",
      "\n",
      "Total number of particles : 120000\n",
      "\n"
     ]
    },
    {
     "data": {
      "image/png": "[encoded data removed]",
      "text/plain": [
       "<matplotlib.figure.Figure at 0x5654150>"
      ]
     },
     "metadata": {},
     "output_type": "display_data"
    }
   ],
   "source": [
    "plot_1NPP(npts = Sum_Zones['Z1'][0], title = 'Release at 50 m depth', dictionary_of_zones=Sum_Zones, linewidth=5)"
   ]
  },
  {
   "cell_type": "markdown",
   "metadata": {},
   "source": [
    "***"
   ]
  },
  {
   "cell_type": "markdown",
   "metadata": {},
   "source": [
    "***"
   ]
  },
  {
   "cell_type": "markdown",
   "metadata": {},
   "source": [
    "***"
   ]
  },
  {
   "cell_type": "markdown",
   "metadata": {},
   "source": [
    "# Histograms"
   ]
  },
  {
   "cell_type": "markdown",
   "metadata": {},
   "source": [
    "### With threshold "
   ]
  },
  {
   "cell_type": "code",
   "execution_count": 99,
   "metadata": {
    "collapsed": false
   },
   "outputs": [
    {
     "name": "stdout",
     "output_type": "stream",
     "text": [
      "('loaded from : ', '/data/ebent/Octopus/output/50m_line_RG/50m_analysis/Ind_parti_north.npy')\n",
      "('loaded from : ', '/data/ebent/Octopus/output/50m_line_RG/50m_analysis/T_step_parti_north.npy')\n"
     ]
    }
   ],
   "source": [
    "Ind_parti_north = pickle_load('Ind_parti_north', path_save)\n",
    "T_step_parti_north = pickle_load('T_step_parti_north', path_save)"
   ]
  },
  {
   "cell_type": "code",
   "execution_count": 100,
   "metadata": {
    "collapsed": false,
    "scrolled": true
   },
   "outputs": [
    {
     "name": "stdout",
     "output_type": "stream",
     "text": [
      "1402 1402\n",
      "1359 1359\n",
      "1401 1401\n",
      "1363 1363\n",
      "1301 1301\n",
      "1407 1407\n",
      "1272 1272\n",
      "1203 1203\n",
      "1170 1170\n",
      "1168 1168\n",
      "1078 1078\n",
      "1141 1141\n"
     ]
    }
   ],
   "source": [
    "# Check if lists containing indexes p and t have same length = nb of parti that go north\n",
    "list_p_thresh = []\n",
    "list_t_thresh = []\n",
    "\n",
    "for NPP in npp:\n",
    "    list_p_thresh.append(len(Ind_parti_north[NPP]))\n",
    "    list_t_thresh.append(len(T_step_parti_north[NPP]))\n",
    "    print len(T_step_parti_north[NPP]), len(Ind_parti_north[NPP])"
   ]
  },
  {
   "cell_type": "code",
   "execution_count": 101,
   "metadata": {
    "collapsed": true
   },
   "outputs": [],
   "source": [
    "import itertools"
   ]
  },
  {
   "cell_type": "code",
   "execution_count": null,
   "metadata": {
    "collapsed": true
   },
   "outputs": [],
   "source": [
    "# Make one list with all depths, longitudes, times of crossing for all NPPs\n",
    "\n",
    "DEP_cross = []\n",
    "LON_cross = []\n",
    "TIME_cross = []\n",
    "for NPP in npp:\n",
    "    #print 'NPP', NPP\n",
    "    DEP = pickle_load('NPP' + NPP + '_DEP', path_load, verbose=False)[:max_time_experiment]\n",
    "    DEP_cross.append(DEP[T_step_parti_north[NPP],Ind_parti_north[NPP]])\n",
    "    \n",
    "    LON = pickle_load('NPP' + NPP + '_LON', path_load, verbose=False)[:max_time_experiment]\n",
    "    LON_cross.append(LON[T_step_parti_north[NPP],Ind_parti_north[NPP]])\n",
    "    \n",
    "    TIME_cross.append(T_step_parti_north[NPP])\n",
    "   \n",
    "DEP_cross = list(itertools.chain(*DEP_cross))\n",
    "LON_cross = list(itertools.chain(*LON_cross))\n",
    "TIME_cross = list(itertools.chain(*TIME_cross))"
   ]
  },
  {
   "cell_type": "code",
   "execution_count": 104,
   "metadata": {
    "collapsed": false
   },
   "outputs": [
    {
     "name": "stdout",
     "output_type": "stream",
     "text": [
      "('saved at : ', '/data/ebent/Octopus/output/50m_line_RG/50m_analysis/DEP_cross.npy')\n",
      "('saved at : ', '/data/ebent/Octopus/output/50m_line_RG/50m_analysis/LON_cross.npy')\n",
      "('saved at : ', '/data/ebent/Octopus/output/50m_line_RG/50m_analysis/TIME_cross.npy')\n"
     ]
    }
   ],
   "source": [
    "pickle_save('DEP_cross', path_save, DEP_cross)\n",
    "pickle_save('LON_cross', path_save, LON_cross)\n",
    "pickle_save('TIME_cross', path_save, TIME_cross)"
   ]
  },
  {
   "cell_type": "markdown",
   "metadata": {},
   "source": [
    "### Function to plot histograms"
   ]
  },
  {
   "cell_type": "code",
   "execution_count": 31,
   "metadata": {
    "collapsed": false
   },
   "outputs": [],
   "source": [
    "def plot_hist(data, bins, weights, title, xlabel, title_save):\n",
    "    fig = plt.figure(figsize=(8,5))\n",
    "    ax = fig.add_subplot(1,1,1)\n",
    "\n",
    "    if weights == True:\n",
    "        weights = np.ones_like(np.array(data))/float(len(data))\n",
    "        plt.hist(data, bins=bins, color='c', weights=weights, normed=True)\n",
    "    else:\n",
    "        plt.hist(data, bins=bins, color='c')\n",
    "    ax.set_title(title, fontsize=18,  y=1.04)\n",
    "    ax.set_xlabel(xlabel, fontsize=16)\n",
    "    ax.set_ylabel('Probability density', fontsize=16, labelpad=10)\n",
    "    fig.tight_layout\n",
    "    plt.savefig('/home/ebent/Final_figs/' + title_save, bbox_inches='tight')#, format='pdf') #  dpi=1000,"
   ]
  },
  {
   "cell_type": "code",
   "execution_count": 19,
   "metadata": {
    "collapsed": false
   },
   "outputs": [],
   "source": [
    "fig = plt.figure(figsize=(8,5))\n",
    "ax = fig.add_subplot(1,1,1)\n",
    "\n",
    "\n",
    "    weights = np.ones_like(np.array(data))/float(len(data))\n",
    "    ax.hist(data, bins=bins, color='c', weights=weights, normed=True)\n",
    "else:\n",
    "    ax.hist(data, bins=bins, color='c')\n",
    "ax.set_title(title, fontsize=18,  y=1.04)\n",
    "ax.set_xlabel(xlabel, fontsize=16)\n",
    "ax.set_ylabel('Probability density', fontsize=16, labelpad=10)\n",
    "fig.tight_layout\n",
    "plt.savefig('/home/ebent/Final_figs/' + title_save, bbox_inches='tight')#, format='pdf') #  dpi=1000,"
   ]
  },
  {
   "cell_type": "markdown",
   "metadata": {},
   "source": [
    "### Histograms of depth, lon, time (year) of crossing"
   ]
  },
  {
   "cell_type": "code",
   "execution_count": 106,
   "metadata": {
    "collapsed": false
   },
   "outputs": [
    {
     "name": "stdout",
     "output_type": "stream",
     "text": [
      "Depth :\n",
      "min : 0.0815111\n",
      "max : 163.851\n",
      "\n",
      "Longitude :\n",
      "min : 175.454\n",
      "max : 268.983\n",
      "\n",
      "Time :\n",
      "min : 0.527777777778\n",
      "max : 4.02777777778\n"
     ]
    }
   ],
   "source": [
    "print 'Depth :'\n",
    "print 'min :', np.array(DEP_cross).min()\n",
    "print 'max :', np.array(DEP_cross).max()\n",
    "print ''\n",
    "\n",
    "print 'Longitude :'\n",
    "print 'min :', np.array(LON_cross).min()\n",
    "print 'max :', np.array(LON_cross).max()\n",
    "print ''\n",
    "\n",
    "TIME_cross_yr = np.array(TIME_cross, dtype=np.float64)*10/360\n",
    "print 'Time :'\n",
    "print 'min :', np.array(TIME_cross_yr).min()\n",
    "print 'max :', np.array(TIME_cross_yr).max()"
   ]
  },
  {
   "cell_type": "code",
   "execution_count": 113,
   "metadata": {
    "collapsed": true
   },
   "outputs": [
    {
     "data": {
      "image/png": "[encoded data removed]",
      "text/plain": [
       "<matplotlib.figure.Figure at 0xc141f10>"
      ]
     },
     "metadata": {},
     "output_type": "display_data"
    }
   ],
   "source": [
    "plot_hist(DEP_cross, np.arange(0, 164, 3), True, 'Depths of crossing (50m)', 'Depth [m]', 'depth_50m.png')"
   ]
  },
  {
   "cell_type": "code",
   "execution_count": 117,
   "metadata": {
    "collapsed": true
   },
   "outputs": [
    {
     "data": {
      "image/png": "[encoded data removed]",
      "text/plain": [
       "<matplotlib.figure.Figure at 0xc299f90>"
      ]
     },
     "metadata": {},
     "output_type": "display_data"
    }
   ],
   "source": [
    "plot_hist(np.array(LON_cross)-360, np.arange(174-360, 270-360, 5), True, 'Longitudes of crossing (50m)', 'Longitude [$^\\circ$]', 'lon_50m.png')"
   ]
  },
  {
   "cell_type": "code",
   "execution_count": 115,
   "metadata": {
    "collapsed": true
   },
   "outputs": [
    {
     "data": {
      "image/png": "[encoded data removed]",
      "text/plain": [
       "<matplotlib.figure.Figure at 0xe670950>"
      ]
     },
     "metadata": {},
     "output_type": "display_data"
    }
   ],
   "source": [
    "TIME_cross_yr = np.array(TIME_cross, dtype=np.float64)*10/360 \n",
    "plot_hist(TIME_cross_yr, np.arange(0, 4.1, 0.25), True, 'Times of crossing (50m)', 'Time [years]', 'time_50m.png')"
   ]
  },
  {
   "cell_type": "code",
   "execution_count": 27,
   "metadata": {
    "collapsed": false
   },
   "outputs": [
    {
     "data": {
      "image/png": "[encoded data removed]",
      "text/plain": [
       "<matplotlib.figure.Figure at 0x6463110>"
      ]
     },
     "metadata": {},
     "output_type": "display_data"
    }
   ],
   "source": [
    "fig = plt.figure(figsize=(8,19))\n",
    "fig.suptitle('Release at 50 m depth', fontsize=26, y=0.93)\n",
    "\n",
    "# Depth\n",
    "ax1 = fig.add_subplot(411)\n",
    "weights = np.ones_like(np.array(DEP_cross))/float(len(DEP_cross))\n",
    "plt.hist(DEP_cross, np.arange(0, 164, 3), color='mediumblue', weights=weights, normed=True)\n",
    "ax1.set_xlabel('Depth [m]', fontsize=20, labelpad=7)\n",
    "ax1.tick_params(labelsize=14)\n",
    "\n",
    "# Longitude\n",
    "ax2 = fig.add_subplot(412)\n",
    "weights = np.ones_like(np.array(np.array(LON_cross)-360))/float(len(np.array(LON_cross)-360))\n",
    "plt.hist(np.array(LON_cross)-360, np.arange(174-360, 270-360, 5), color='royalblue', weights=weights, normed=True)\n",
    "ax2.set_xlabel('Longitude [$^\\circ$]', fontsize=20, labelpad=7)\n",
    "ax2.tick_params(labelsize=14)\n",
    "\n",
    "# Time\n",
    "ax3 = fig.add_subplot(413)\n",
    "TIME_cross_yr = np.array(TIME_cross, dtype=np.float64)*10/360 \n",
    "weights = np.ones_like(np.array(TIME_cross_yr))/float(len(TIME_cross_yr))\n",
    "plt.hist(TIME_cross_yr, np.arange(0, 4.1, 0.25), color='dodgerblue', weights=weights, normed=True)\n",
    "ax3.set_xlabel('Time [years]', fontsize=20, labelpad=7)\n",
    "ax3.tick_params(labelsize=14)\n",
    "\n",
    "# Months\n",
    "ax4 = fig.add_subplot(414)\n",
    "x_coordinates = np.arange(len(num.keys()))\n",
    "plt.bar(x_coordinates, np.array(X)/float(len(TIME_cross)), width=1, color='skyblue')\n",
    "x_coordinates = np.arange(len(num.keys()))+0.5\n",
    "plt.xticks(x_coordinates, Y, rotation=70)\n",
    "ax4.tick_params(labelsize=14)\n",
    "tick = plt.gca()\n",
    "tick.tick_params(axis = 'x', which = 'major', labelsize = 20)\n",
    "\n",
    "# Titre yaxis\n",
    "ax2.set_ylabel('Probability density', fontsize=22, labelpad=25, y=0.03)\n",
    "plt.savefig('/home/ebent/Final_figs/' + '4hist_50m.png', bbox_inches='tight')#, format='pdf') #  dpi=1000,\n",
    "plt.show()"
   ]
  },
  {
   "cell_type": "code",
   "execution_count": 26,
   "metadata": {
    "collapsed": false,
    "scrolled": false
   },
   "outputs": [
    {
     "data": {
      "image/png": "[encoded data removed]",
      "text/plain": [
       "<matplotlib.figure.Figure at 0x9b51e90>"
      ]
     },
     "metadata": {},
     "output_type": "display_data"
    }
   ],
   "source": [
    "fig = plt.figure(figsize=(8,29))\n",
    "fig.suptitle('50 m', fontsize=26, y=0.92)\n",
    "\n",
    "# Line plots\n",
    "dictionary_of_zones=Sum_Zones\n",
    "linewidth=5\n",
    "time = (np.arange(np.int_(dictionary_of_zones['Z1'].shape))*10)/360. #(np.arange(148)*10)/360. #(np.arange(np.int_(Z1.shape))*10)/360.\n",
    "\n",
    "ax5 = fig.add_subplot(611)\n",
    "ax5.plot(time, dictionary_of_zones['Z1'] *100./npts, '-y', label='Ross Sea', linewidth=linewidth)\n",
    "\n",
    "ax5.legend(loc='lower left', fontsize=16) #bbox_to_anchor=(1.04,0.5)\n",
    "ax5.set_ylabel('Particles [%]', fontsize=20, labelpad=10)\n",
    "ax5.set_xticklabels([])\n",
    "#ax5.set_xlabel(title, fontsize=18, y=1.04)\n",
    "\n",
    "ax6 = fig.add_subplot(612)\n",
    "ax6.plot(time, dictionary_of_zones['Z2'] *100./npts, '-r', label='North of ACC front', linewidth=linewidth)\n",
    "ax6.plot(time, dictionary_of_zones['Z4'] *100./npts, '-b', label='East', linewidth=linewidth)\n",
    "#ax6.plot(time, dictionary_of_zones['Z5'] *100./npts, '-c', label='East and West', linewidth=linewidth)\n",
    "ax6.plot(time, dictionary_of_zones['dead'] *100./npts, '-k', label='Hit land in Ross Sea', linewidth=linewidth)\n",
    "ax6.plot(time, dictionary_of_zones['Z3'] *100./npts, '-g', label='West', linewidth=linewidth)\n",
    "\n",
    "ax6.legend(loc='upper left', fontsize=16)\n",
    "ax6.set_xlabel('Time [years]', fontsize=20, labelpad=10)\n",
    "ax6.set_ylabel('Particles [%]', fontsize=20, labelpad=10)\n",
    "#ax6.xaxis.set_ticks_position('top') \n",
    "#plt.subplots_adjust(hspace = .01)\n",
    "\n",
    "# Depth\n",
    "ax1 = fig.add_subplot(613)\n",
    "weights = np.ones_like(np.array(DEP_cross))/float(len(DEP_cross))\n",
    "plt.hist(DEP_cross, np.arange(0, 164, 3), color='mediumblue', weights=weights, normed=True)\n",
    "ax1.set_xlabel('Depth [m]', fontsize=20, labelpad=7)\n",
    "\n",
    "# Longitude\n",
    "ax2 = fig.add_subplot(614)\n",
    "weights = np.ones_like(np.array(np.array(LON_cross)-360))/float(len(np.array(LON_cross)-360))\n",
    "plt.hist(np.array(LON_cross)-360, np.arange(174-360, 270-360, 5), color='royalblue', weights=weights, normed=True)\n",
    "ax2.set_xlabel('Longitude [$^\\circ$]', fontsize=20, labelpad=7)\n",
    "\n",
    "# Time\n",
    "ax3 = fig.add_subplot(615)\n",
    "TIME_cross_yr = np.array(TIME_cross, dtype=np.float64)*10/360 \n",
    "weights = np.ones_like(np.array(TIME_cross_yr))/float(len(TIME_cross_yr))\n",
    "plt.hist(TIME_cross_yr, np.arange(0, 4.1, 0.25), color='dodgerblue', weights=weights, normed=True)\n",
    "ax3.set_xlabel('Time [years]', fontsize=20, labelpad=7)\n",
    "\n",
    "# Months\n",
    "ax4 = fig.add_subplot(616)\n",
    "x_coordinates = np.arange(len(num.keys()))\n",
    "plt.bar(x_coordinates, np.array(X)/float(len(TIME_cross)), width=1, color='skyblue')\n",
    "x_coordinates = np.arange(len(num.keys()))+0.5\n",
    "plt.xticks(x_coordinates, Y, rotation=70, fontsize=20)\n",
    "tick = plt.gca()\n",
    "tick.tick_params(axis = 'x', which = 'major', labelsize = 20)\n",
    "\n",
    "# Titre yaxis\n",
    "npts = Sum_Zones['Z1'][0]\n",
    "title = 'Percentage of particles in each zone - 50m'\n",
    "dictionary_of_zones=Sum_Zones\n",
    "linewidth=5\n",
    "\n",
    "ax2.set_ylabel('Probability density', fontsize=22, labelpad=25, y=0.03)\n",
    "\n",
    "#fig.tight_layout()\n",
    "\n",
    "plt.savefig('/home/ebent/Final_figs/' + '6figs_50m.png', bbox_inches='tight')#, format='pdf') #  dpi=1000,\n",
    "plt.show()"
   ]
  },
  {
   "cell_type": "markdown",
   "metadata": {},
   "source": [
    "***"
   ]
  },
  {
   "cell_type": "markdown",
   "metadata": {},
   "source": [
    "### Histogram of months of crossing"
   ]
  },
  {
   "cell_type": "markdown",
   "metadata": {},
   "source": [
    "#### This makes a list of 5yrs filled with the info on which month it is"
   ]
  },
  {
   "cell_type": "code",
   "execution_count": 250,
   "metadata": {
    "collapsed": true
   },
   "outputs": [],
   "source": [
    "MAY = []\n",
    "JUL = []\n",
    "AUG = []\n",
    "OCT = []\n",
    "DEC = []\n",
    "JAN = []\n",
    "MAR = []\n",
    "\n",
    "for i in range(1,32):\n",
    "    MAY.append('MAY')\n",
    "    JUL.append('JUL')\n",
    "    AUG.append('AUG')\n",
    "    OCT.append('OCT')\n",
    "    DEC.append('DEC')\n",
    "    JAN.append('JAN')\n",
    "    MAR.append('MAR')"
   ]
  },
  {
   "cell_type": "code",
   "execution_count": 251,
   "metadata": {
    "collapsed": false
   },
   "outputs": [],
   "source": [
    "JUN = []\n",
    "SEP = []\n",
    "NOV = []\n",
    "\n",
    "for i in range(1,31):\n",
    "    JUN.append('JUN')\n",
    "    SEP.append('SEP')\n",
    "    NOV.append('NOV')"
   ]
  },
  {
   "cell_type": "code",
   "execution_count": 252,
   "metadata": {
    "collapsed": false
   },
   "outputs": [],
   "source": [
    "FEV = []\n",
    "for i in range(1,29):\n",
    "    FEV.append('FEV')"
   ]
  },
  {
   "cell_type": "code",
   "execution_count": 253,
   "metadata": {
    "collapsed": false
   },
   "outputs": [],
   "source": [
    "beg_APR = []\n",
    "end_APR = []\n",
    "\n",
    "for i in range(1,6):\n",
    "    beg_APR.append('APR')\n",
    "    \n",
    "for i in range(6,31):\n",
    "    end_APR.append('APR')"
   ]
  },
  {
   "cell_type": "code",
   "execution_count": 254,
   "metadata": {
    "collapsed": false
   },
   "outputs": [],
   "source": [
    "Year = []\n",
    "Year = [beg_APR, MAY, JUN, JUL, AUG, SEP, OCT, NOV, DEC, JAN, FEV, MAR, end_APR]"
   ]
  },
  {
   "cell_type": "code",
   "execution_count": 255,
   "metadata": {
    "collapsed": true
   },
   "outputs": [],
   "source": [
    "Year_1_list = list(itertools.chain(*Year))"
   ]
  },
  {
   "cell_type": "code",
   "execution_count": 256,
   "metadata": {
    "collapsed": true
   },
   "outputs": [],
   "source": [
    "Five_Years = []\n",
    "for i in range(5):\n",
    "    Five_Years.append(Year_1_list)"
   ]
  },
  {
   "cell_type": "code",
   "execution_count": 257,
   "metadata": {
    "collapsed": false
   },
   "outputs": [],
   "source": [
    "Five_Years_1_list = list(itertools.chain(*Five_Years))"
   ]
  },
  {
   "cell_type": "code",
   "execution_count": 258,
   "metadata": {
    "collapsed": false,
    "scrolled": true
   },
   "outputs": [
    {
     "data": {
      "text/plain": [
       "1825"
      ]
     },
     "execution_count": 258,
     "metadata": {},
     "output_type": "execute_result"
    }
   ],
   "source": [
    "len(Five_Years_1_list)"
   ]
  },
  {
   "cell_type": "code",
   "execution_count": 259,
   "metadata": {
    "collapsed": false
   },
   "outputs": [
    {
     "name": "stdout",
     "output_type": "stream",
     "text": [
      "('saved at : ', '/data/ebent/Octopus/output/50m_line_RG/Five_Years_1_list.npy')\n"
     ]
    }
   ],
   "source": [
    "pickle_save('Five_Years_1_list', path_load, Five_Years_1_list)"
   ]
  },
  {
   "cell_type": "code",
   "execution_count": 68,
   "metadata": {
    "collapsed": false
   },
   "outputs": [
    {
     "name": "stdout",
     "output_type": "stream",
     "text": [
      "('loaded from : ', '/data/ebent/Octopus/output/50m_line_RG/Five_Years_1_list.npy')\n"
     ]
    }
   ],
   "source": [
    "Five_Years_1_list = pickle_load('Five_Years_1_list', path_load)"
   ]
  },
  {
   "cell_type": "markdown",
   "metadata": {},
   "source": [
    "### Searchs the month that correspond to the time in index"
   ]
  },
  {
   "cell_type": "code",
   "execution_count": 30,
   "metadata": {
    "collapsed": false
   },
   "outputs": [],
   "source": [
    "analysis = []\n",
    "for i in range(len(TIME_cross)):\n",
    "    analysis.append(Five_Years_1_list[np.array(TIME_cross[i])*10])"
   ]
  },
  {
   "cell_type": "code",
   "execution_count": 31,
   "metadata": {
    "collapsed": true
   },
   "outputs": [],
   "source": [
    "from collections import Counter\n",
    "\n",
    "num = Counter(analysis)"
   ]
  },
  {
   "cell_type": "code",
   "execution_count": 32,
   "metadata": {
    "collapsed": true
   },
   "outputs": [],
   "source": [
    "x = list(num.values())\n",
    "y = list(num.keys())"
   ]
  },
  {
   "cell_type": "code",
   "execution_count": 33,
   "metadata": {
    "collapsed": true
   },
   "outputs": [],
   "source": [
    "X = list(x)\n",
    "Y = list(y)"
   ]
  },
  {
   "cell_type": "code",
   "execution_count": 34,
   "metadata": {
    "collapsed": false
   },
   "outputs": [],
   "source": [
    "for i in range(12):\n",
    "    if y[i] == 'JAN':\n",
    "        Y[0] = y[i]\n",
    "        X[0] = x[i]\n",
    "    if y[i] == 'FEV':\n",
    "        Y[1] = y[i]\n",
    "        X[1] = x[i]\n",
    "    if y[i] == 'MAR':\n",
    "        Y[2] = y[i]\n",
    "        X[2] = x[i]\n",
    "    if y[i] == 'APR':\n",
    "        Y[3] = y[i]\n",
    "        X[3] = x[i]\n",
    "    if y[i] == 'MAY':\n",
    "        Y[4] = y[i]\n",
    "        X[4] = x[i]\n",
    "    if y[i] == 'JUN':\n",
    "        Y[5] = y[i]\n",
    "        X[5] = x[i]\n",
    "    if y[i] == 'JUL':\n",
    "        Y[6] = y[i]\n",
    "        X[6] = x[i]\n",
    "    if y[i] == 'AUG':\n",
    "        Y[7] = y[i]\n",
    "        X[7] = x[i]\n",
    "    if y[i] == 'SEP':\n",
    "        Y[8] = y[i]\n",
    "        X[8] = x[i]\n",
    "    if y[i] == 'OCT':\n",
    "        Y[9] = y[i]\n",
    "        X[9] = x[i]\n",
    "    if y[i] == 'NOV':\n",
    "        Y[10] = y[i]\n",
    "        X[10] = x[i]\n",
    "    if y[i] == 'DEC':\n",
    "        Y[11] = y[i]\n",
    "        X[11] = x[i]"
   ]
  },
  {
   "cell_type": "code",
   "execution_count": 35,
   "metadata": {
    "collapsed": false,
    "scrolled": true
   },
   "outputs": [
    {
     "name": "stdout",
     "output_type": "stream",
     "text": [
      "0 JAN\n",
      "1 FEV\n",
      "2 MAR\n",
      "3 APR\n",
      "4 MAY\n",
      "5 JUN\n",
      "6 JUL\n",
      "7 AUG\n",
      "8 SEP\n",
      "9 OCT\n",
      "10 NOV\n",
      "11 DEC\n"
     ]
    }
   ],
   "source": [
    "for i in range(12):\n",
    "    print i, Y[i]"
   ]
  },
  {
   "cell_type": "markdown",
   "metadata": {},
   "source": [
    "### Plot the histogram"
   ]
  },
  {
   "cell_type": "code",
   "execution_count": 116,
   "metadata": {
    "collapsed": false
   },
   "outputs": [
    {
     "data": {
      "image/png": "[encoded data removed]",
      "text/plain": [
       "<matplotlib.figure.Figure at 0xbf0eed0>"
      ]
     },
     "metadata": {},
     "output_type": "display_data"
    }
   ],
   "source": [
    "x_coordinates = np.arange(len(num.keys()))\n",
    "\n",
    "fig = plt.figure(figsize=(8,5))\n",
    "ax = fig.add_subplot(1,1,1)\n",
    "\n",
    "ax.bar(x_coordinates, np.array(X)/float(len(TIME_cross)), width=1, color='c')\n",
    "\n",
    "x_coordinates = np.arange(len(num.keys()))+0.5\n",
    "\n",
    "ax.set_title('Months of crossing (50m)', fontsize=18, y=1.04)\n",
    "plt.xticks(x_coordinates, Y, rotation=70)\n",
    "tick = plt.gca()\n",
    "tick.tick_params(axis = 'x', which = 'major', labelsize = 14)\n",
    "ax.set_ylabel('Probability density', fontsize=16, labelpad=10)\n",
    "fig.tight_layout\n",
    "plt.savefig('/home/ebent/Final_figs/' + 'month_50m.png', bbox_inches='tight')#, format='pdf') #  dpi=1000,"
   ]
  },
  {
   "cell_type": "code",
   "execution_count": null,
   "metadata": {
    "collapsed": true
   },
   "outputs": [],
   "source": []
  }
 ],
 "metadata": {
  "anaconda-cloud": {},
  "kernelspec": {
   "display_name": "Python [conda env:anaconda2]",
   "language": "python",
   "name": "conda-env-anaconda2-py"
  },
  "language_info": {
   "codemirror_mode": {
    "name": "ipython",
    "version": 2
   },
   "file_extension": ".py",
   "mimetype": "text/x-python",
   "name": "python",
   "nbconvert_exporter": "python",
   "pygments_lexer": "ipython2",
   "version": "2.7.6"
  }
 },
 "nbformat": 4,
 "nbformat_minor": 1
}
